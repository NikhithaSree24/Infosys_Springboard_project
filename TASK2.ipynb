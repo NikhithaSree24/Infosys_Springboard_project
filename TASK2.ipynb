{
  "nbformat": 4,
  "nbformat_minor": 0,
  "metadata": {
    "colab": {
      "provenance": []
    },
    "kernelspec": {
      "name": "python3",
      "display_name": "Python 3"
    },
    "language_info": {
      "name": "python"
    }
  },
  "cells": [
    {
      "cell_type": "markdown",
      "source": [
        "**Install packages & import libraries**"
      ],
      "metadata": {
        "id": "7QfinSB0xlh0"
      }
    },
    {
      "cell_type": "code",
      "execution_count": 13,
      "metadata": {
        "colab": {
          "base_uri": "https://localhost:8080/"
        },
        "id": "T9AHyIhgueeR",
        "outputId": "087a8413-3c7b-4915-eb95-bad420898d0a"
      },
      "outputs": [
        {
          "output_type": "stream",
          "name": "stdout",
          "text": [
            "Requirement already satisfied: google-generativeai in /usr/local/lib/python3.12/dist-packages (0.8.5)\n",
            "Requirement already satisfied: newsapi-python in /usr/local/lib/python3.12/dist-packages (0.2.7)\n",
            "Requirement already satisfied: pandas in /usr/local/lib/python3.12/dist-packages (2.2.2)\n",
            "Requirement already satisfied: requests in /usr/local/lib/python3.12/dist-packages (2.32.4)\n",
            "Requirement already satisfied: beautifulsoup4 in /usr/local/lib/python3.12/dist-packages (4.13.5)\n",
            "Requirement already satisfied: google-ai-generativelanguage==0.6.15 in /usr/local/lib/python3.12/dist-packages (from google-generativeai) (0.6.15)\n",
            "Requirement already satisfied: google-api-core in /usr/local/lib/python3.12/dist-packages (from google-generativeai) (2.25.1)\n",
            "Requirement already satisfied: google-api-python-client in /usr/local/lib/python3.12/dist-packages (from google-generativeai) (2.181.0)\n",
            "Requirement already satisfied: google-auth>=2.15.0 in /usr/local/lib/python3.12/dist-packages (from google-generativeai) (2.38.0)\n",
            "Requirement already satisfied: protobuf in /usr/local/lib/python3.12/dist-packages (from google-generativeai) (5.29.5)\n",
            "Requirement already satisfied: pydantic in /usr/local/lib/python3.12/dist-packages (from google-generativeai) (2.11.7)\n",
            "Requirement already satisfied: tqdm in /usr/local/lib/python3.12/dist-packages (from google-generativeai) (4.67.1)\n",
            "Requirement already satisfied: typing-extensions in /usr/local/lib/python3.12/dist-packages (from google-generativeai) (4.15.0)\n",
            "Requirement already satisfied: proto-plus<2.0.0dev,>=1.22.3 in /usr/local/lib/python3.12/dist-packages (from google-ai-generativelanguage==0.6.15->google-generativeai) (1.26.1)\n",
            "Requirement already satisfied: numpy>=1.26.0 in /usr/local/lib/python3.12/dist-packages (from pandas) (2.0.2)\n",
            "Requirement already satisfied: python-dateutil>=2.8.2 in /usr/local/lib/python3.12/dist-packages (from pandas) (2.9.0.post0)\n",
            "Requirement already satisfied: pytz>=2020.1 in /usr/local/lib/python3.12/dist-packages (from pandas) (2025.2)\n",
            "Requirement already satisfied: tzdata>=2022.7 in /usr/local/lib/python3.12/dist-packages (from pandas) (2025.2)\n",
            "Requirement already satisfied: charset_normalizer<4,>=2 in /usr/local/lib/python3.12/dist-packages (from requests) (3.4.3)\n",
            "Requirement already satisfied: idna<4,>=2.5 in /usr/local/lib/python3.12/dist-packages (from requests) (3.10)\n",
            "Requirement already satisfied: urllib3<3,>=1.21.1 in /usr/local/lib/python3.12/dist-packages (from requests) (2.5.0)\n",
            "Requirement already satisfied: certifi>=2017.4.17 in /usr/local/lib/python3.12/dist-packages (from requests) (2025.8.3)\n",
            "Requirement already satisfied: soupsieve>1.2 in /usr/local/lib/python3.12/dist-packages (from beautifulsoup4) (2.8)\n",
            "Requirement already satisfied: googleapis-common-protos<2.0.0,>=1.56.2 in /usr/local/lib/python3.12/dist-packages (from google-api-core->google-generativeai) (1.70.0)\n",
            "Requirement already satisfied: cachetools<6.0,>=2.0.0 in /usr/local/lib/python3.12/dist-packages (from google-auth>=2.15.0->google-generativeai) (5.5.2)\n",
            "Requirement already satisfied: pyasn1-modules>=0.2.1 in /usr/local/lib/python3.12/dist-packages (from google-auth>=2.15.0->google-generativeai) (0.4.2)\n",
            "Requirement already satisfied: rsa<5,>=3.1.4 in /usr/local/lib/python3.12/dist-packages (from google-auth>=2.15.0->google-generativeai) (4.9.1)\n",
            "Requirement already satisfied: six>=1.5 in /usr/local/lib/python3.12/dist-packages (from python-dateutil>=2.8.2->pandas) (1.17.0)\n",
            "Requirement already satisfied: httplib2<1.0.0,>=0.19.0 in /usr/local/lib/python3.12/dist-packages (from google-api-python-client->google-generativeai) (0.30.0)\n",
            "Requirement already satisfied: google-auth-httplib2<1.0.0,>=0.2.0 in /usr/local/lib/python3.12/dist-packages (from google-api-python-client->google-generativeai) (0.2.0)\n",
            "Requirement already satisfied: uritemplate<5,>=3.0.1 in /usr/local/lib/python3.12/dist-packages (from google-api-python-client->google-generativeai) (4.2.0)\n",
            "Requirement already satisfied: annotated-types>=0.6.0 in /usr/local/lib/python3.12/dist-packages (from pydantic->google-generativeai) (0.7.0)\n",
            "Requirement already satisfied: pydantic-core==2.33.2 in /usr/local/lib/python3.12/dist-packages (from pydantic->google-generativeai) (2.33.2)\n",
            "Requirement already satisfied: typing-inspection>=0.4.0 in /usr/local/lib/python3.12/dist-packages (from pydantic->google-generativeai) (0.4.1)\n",
            "Requirement already satisfied: grpcio<2.0.0,>=1.33.2 in /usr/local/lib/python3.12/dist-packages (from google-api-core[grpc]!=2.0.*,!=2.1.*,!=2.10.*,!=2.2.*,!=2.3.*,!=2.4.*,!=2.5.*,!=2.6.*,!=2.7.*,!=2.8.*,!=2.9.*,<3.0.0dev,>=1.34.1->google-ai-generativelanguage==0.6.15->google-generativeai) (1.74.0)\n",
            "Requirement already satisfied: grpcio-status<2.0.0,>=1.33.2 in /usr/local/lib/python3.12/dist-packages (from google-api-core[grpc]!=2.0.*,!=2.1.*,!=2.10.*,!=2.2.*,!=2.3.*,!=2.4.*,!=2.5.*,!=2.6.*,!=2.7.*,!=2.8.*,!=2.9.*,<3.0.0dev,>=1.34.1->google-ai-generativelanguage==0.6.15->google-generativeai) (1.71.2)\n",
            "Requirement already satisfied: pyparsing<4,>=3.0.4 in /usr/local/lib/python3.12/dist-packages (from httplib2<1.0.0,>=0.19.0->google-api-python-client->google-generativeai) (3.2.3)\n",
            "Requirement already satisfied: pyasn1<0.7.0,>=0.6.1 in /usr/local/lib/python3.12/dist-packages (from pyasn1-modules>=0.2.1->google-auth>=2.15.0->google-generativeai) (0.6.1)\n"
          ]
        }
      ],
      "source": [
        "# Install required packages\n",
        "!pip install google-generativeai newsapi-python pandas requests beautifulsoup4\n",
        "\n",
        "# Imports\n",
        "import pandas as pd\n",
        "import requests\n",
        "from bs4 import BeautifulSoup\n",
        "import google.generativeai as genai\n",
        "from newsapi import NewsApiClient\n",
        "from google.colab import userdata\n",
        "import random\n",
        "import time"
      ]
    },
    {
      "cell_type": "markdown",
      "source": [
        "**Load API keys**"
      ],
      "metadata": {
        "id": "M9lzzWQ9xwDb"
      }
    },
    {
      "cell_type": "code",
      "source": [
        "# Load API Keys from Colab Secrets\n",
        "news_api_key = userdata.get(\"NEWS_API_KEY\")\n",
        "gemini_api_key = userdata.get(\"GEMINI_API_KEY\")\n",
        "\n",
        "if not news_api_key:\n",
        "    raise ValueError(\"NEWS_API_KEY not found in Colab Secrets.\")\n",
        "if not gemini_api_key:\n",
        "    raise ValueError(\"GEMINI_API_KEY not found in Colab Secrets.\")\n",
        "\n",
        "# Configure Gemini client\n",
        "genai.configure(api_key=gemini_api_key)\n",
        "print(\"API keys loaded successfully\")"
      ],
      "metadata": {
        "colab": {
          "base_uri": "https://localhost:8080/"
        },
        "id": "9xO1pslquiGq",
        "outputId": "428a515b-2dd9-4252-84fa-05cb8c922939"
      },
      "execution_count": 14,
      "outputs": [
        {
          "output_type": "stream",
          "name": "stdout",
          "text": [
            "API keys loaded successfully\n"
          ]
        }
      ]
    },
    {
      "cell_type": "markdown",
      "source": [
        "**Fetch RSS feed articles**"
      ],
      "metadata": {
        "id": "AdNtrI-Qx6qd"
      }
    },
    {
      "cell_type": "code",
      "source": [
        "def fetch_rss_feed(url, limit=50):\n",
        "    try:\n",
        "        response = requests.get(url)\n",
        "        soup = BeautifulSoup(response.content, \"xml\")\n",
        "        items = soup.find_all(\"item\")[:limit]\n",
        "        articles = []\n",
        "        for item in items:\n",
        "            title = item.title.text if item.title else None\n",
        "            pubdate = item.pubDate.text if item.pubDate else None\n",
        "            if title and pubdate:\n",
        "                # Filter only AI/ML related\n",
        "                if any(k in title.lower() for k in [\"artificial intelligence\", \"ai\", \"machine learning\"]):\n",
        "                    articles.append({\"source\": \"Google News RSS\", \"text\": title, \"publishedAt\": pubdate})\n",
        "        print(f\"Fetched {len(articles)} articles from RSS\")\n",
        "        return articles\n",
        "    except Exception as e:\n",
        "        print(\"RSS error:\", e)\n",
        "        return []\n",
        "\n",
        "rss_url = \"https://news.google.com/rss/search?q=Artificial+Intelligence+Machine+Learning&hl=en-US&gl=US&ceid=US:en\"\n",
        "rss_data = fetch_rss_feed(rss_url, limit=50)"
      ],
      "metadata": {
        "colab": {
          "base_uri": "https://localhost:8080/"
        },
        "id": "eoORDcA5umNm",
        "outputId": "85c1cda9-cddc-4e80-dfc2-b2d90e99bcf8"
      },
      "execution_count": 15,
      "outputs": [
        {
          "output_type": "stream",
          "name": "stdout",
          "text": [
            "Fetched 48 articles from RSS\n"
          ]
        }
      ]
    },
    {
      "cell_type": "markdown",
      "source": [
        "**Fetch NewsAPI articles (AI-related)**"
      ],
      "metadata": {
        "id": "LEbbXclGx9Hu"
      }
    },
    {
      "cell_type": "code",
      "source": [
        "def fetch_newsapi_articles(api_key, query=\"Artificial Intelligence OR Machine Learning\", page_size=50):\n",
        "    client = NewsApiClient(api_key=api_key)\n",
        "    try:\n",
        "        response = client.get_everything(\n",
        "            q=query,\n",
        "            language=\"en\",\n",
        "            sort_by=\"publishedAt\",\n",
        "            page_size=page_size\n",
        "        )\n",
        "        articles = response.get(\"articles\", [])\n",
        "        # Filter out articles without title or publishedAt\n",
        "        articles = [a for a in articles if a.get(\"title\") and a.get(\"publishedAt\")]\n",
        "        formatted = [{\"source\": a[\"source\"][\"name\"], \"text\": a[\"title\"], \"publishedAt\": a[\"publishedAt\"]} for a in articles]\n",
        "        print(f\"Fetched {len(formatted)} articles from NewsAPI\")\n",
        "        return formatted\n",
        "    except Exception as e:\n",
        "        print(\"NewsAPI error:\", e)\n",
        "        return []\n",
        "\n",
        "newsapi_data = fetch_newsapi_articles(news_api_key, page_size=50)"
      ],
      "metadata": {
        "colab": {
          "base_uri": "https://localhost:8080/"
        },
        "id": "qXWo31_9uyGz",
        "outputId": "4b9f91d6-a652-4c7f-e8e9-d1334ff8f6b5"
      },
      "execution_count": 16,
      "outputs": [
        {
          "output_type": "stream",
          "name": "stdout",
          "text": [
            "Fetched 49 articles from NewsAPI\n"
          ]
        }
      ]
    },
    {
      "cell_type": "markdown",
      "source": [
        "**Combine sources & filter AI-related articles**"
      ],
      "metadata": {
        "id": "HkQ-1O7VyGaS"
      }
    },
    {
      "cell_type": "code",
      "source": [
        "# Combine all sources\n",
        "combined_data = rss_data + newsapi_data\n",
        "df_combined = pd.DataFrame(combined_data)\n",
        "\n",
        "# Filter only AI-related articles\n",
        "ai_keywords = [\n",
        "    \"artificial intelligence\", \"ai\", \"machine learning\", \"deep learning\",\n",
        "    \"neural network\", \"nlp\", \"computer vision\", \"ml\", \"gpt\", \"llm\"\n",
        "]\n",
        "\n",
        "def is_ai_related(text):\n",
        "    text_lower = str(text).lower()\n",
        "    return any(keyword in text_lower for keyword in ai_keywords)\n",
        "\n",
        "df_combined = df_combined[df_combined[\"text\"].apply(is_ai_related)]\n",
        "df_combined.reset_index(drop=True, inplace=True)\n",
        "print(f\"Filtered dataset size (AI-only): {len(df_combined)}\")\n"
      ],
      "metadata": {
        "colab": {
          "base_uri": "https://localhost:8080/"
        },
        "id": "NifYxdcsu3m7",
        "outputId": "1ecfe594-efb2-43b1-eab3-e8a56dd4d338"
      },
      "execution_count": 17,
      "outputs": [
        {
          "output_type": "stream",
          "name": "stdout",
          "text": [
            "Filtered dataset size (AI-only): 77\n"
          ]
        }
      ]
    },
    {
      "cell_type": "markdown",
      "source": [
        "**Gemini LLM sentiment analysis (small subset)**"
      ],
      "metadata": {
        "id": "wwqCuxsOyKJl"
      }
    },
    {
      "cell_type": "code",
      "source": [
        "def analyze_sentiment_gemini(text):\n",
        "    try:\n",
        "        model = genai.GenerativeModel(\"gemini-2.5-flash-lite\")  # lightweight Gemini model\n",
        "        prompt = f\"Analyze the sentiment in one word (Positive, Negative, Neutral): {text}\"\n",
        "        response = model.generate_content(prompt)\n",
        "        sentiment = response.text.strip()\n",
        "        if sentiment not in [\"Positive\", \"Negative\", \"Neutral\"]:\n",
        "            return \"Unknown\"\n",
        "        return sentiment\n",
        "    except Exception as e:\n",
        "        print(\"Gemini error:\", e)\n",
        "        return \"Error\"\n",
        "\n",
        "# Apply on first 10 rows only to save API usage\n",
        "df_combined.loc[:9, \"llm_sentiment\"] = df_combined.loc[:9, \"text\"].apply(analyze_sentiment_gemini)\n",
        "print(\"Gemini sentiment added on small subset\")\n"
      ],
      "metadata": {
        "colab": {
          "base_uri": "https://localhost:8080/",
          "height": 34
        },
        "id": "GBZz2xqbvQSh",
        "outputId": "0d42ee52-e8f4-40e2-c370-c780452b194b"
      },
      "execution_count": 18,
      "outputs": [
        {
          "output_type": "stream",
          "name": "stdout",
          "text": [
            "Gemini sentiment added on small subset\n"
          ]
        }
      ]
    },
    {
      "cell_type": "markdown",
      "source": [
        "**Save final CSV**"
      ],
      "metadata": {
        "id": "5T4Q4W3UyQdN"
      }
    },
    {
      "cell_type": "code",
      "source": [
        "# Ensure publishedAt is present; if missing, fill with \"Unknown\"\n",
        "df_combined[\"publishedAt\"].fillna(\"Unknown\", inplace=True)\n",
        "\n",
        "# Save to CSV\n",
        "df_combined.to_csv(\"multi_source_ai_sentiment.csv\", index=False)\n",
        "print(\"CSV saved as 'multi_source_ai_sentiment.csv'\")\n"
      ],
      "metadata": {
        "colab": {
          "base_uri": "https://localhost:8080/"
        },
        "id": "ei0FNOOMwHdI",
        "outputId": "4a33bd91-9511-4a9f-b883-e85fb473f4dc"
      },
      "execution_count": 19,
      "outputs": [
        {
          "output_type": "stream",
          "name": "stdout",
          "text": [
            "CSV saved as 'multi_source_ai_sentiment.csv'\n"
          ]
        },
        {
          "output_type": "stream",
          "name": "stderr",
          "text": [
            "/tmp/ipython-input-4112946711.py:2: FutureWarning: A value is trying to be set on a copy of a DataFrame or Series through chained assignment using an inplace method.\n",
            "The behavior will change in pandas 3.0. This inplace method will never work because the intermediate object on which we are setting values always behaves as a copy.\n",
            "\n",
            "For example, when doing 'df[col].method(value, inplace=True)', try using 'df.method({col: value}, inplace=True)' or df[col] = df[col].method(value) instead, to perform the operation inplace on the original object.\n",
            "\n",
            "\n",
            "  df_combined[\"publishedAt\"].fillna(\"Unknown\", inplace=True)\n"
          ]
        }
      ]
    }
  ]
}