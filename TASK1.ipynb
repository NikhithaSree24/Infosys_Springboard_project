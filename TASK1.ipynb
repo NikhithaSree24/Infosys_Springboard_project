{
  "nbformat": 4,
  "nbformat_minor": 0,
  "metadata": {
    "colab": {
      "provenance": []
    },
    "kernelspec": {
      "name": "python3",
      "display_name": "Python 3"
    },
    "language_info": {
      "name": "python"
    }
  },
  "cells": [
    {
      "cell_type": "markdown",
      "source": [
        "**Install dependencies**"
      ],
      "metadata": {
        "id": "dIlcqE0B1xCi"
      }
    },
    {
      "cell_type": "code",
      "source": [
        "!pip install newsapi-python pandas transformers"
      ],
      "metadata": {
        "colab": {
          "base_uri": "https://localhost:8080/"
        },
        "id": "yFvgAo0j1Vvm",
        "outputId": "467772ac-11cd-4bf4-9d55-1d1a74af0f13"
      },
      "execution_count": null,
      "outputs": [
        {
          "output_type": "stream",
          "name": "stdout",
          "text": [
            "Requirement already satisfied: newsapi-python in /usr/local/lib/python3.12/dist-packages (0.2.7)\n",
            "Requirement already satisfied: pandas in /usr/local/lib/python3.12/dist-packages (2.2.2)\n",
            "Requirement already satisfied: transformers in /usr/local/lib/python3.12/dist-packages (4.56.0)\n",
            "Requirement already satisfied: requests<3.0.0 in /usr/local/lib/python3.12/dist-packages (from newsapi-python) (2.32.4)\n",
            "Requirement already satisfied: numpy>=1.26.0 in /usr/local/lib/python3.12/dist-packages (from pandas) (2.0.2)\n",
            "Requirement already satisfied: python-dateutil>=2.8.2 in /usr/local/lib/python3.12/dist-packages (from pandas) (2.9.0.post0)\n",
            "Requirement already satisfied: pytz>=2020.1 in /usr/local/lib/python3.12/dist-packages (from pandas) (2025.2)\n",
            "Requirement already satisfied: tzdata>=2022.7 in /usr/local/lib/python3.12/dist-packages (from pandas) (2025.2)\n",
            "Requirement already satisfied: filelock in /usr/local/lib/python3.12/dist-packages (from transformers) (3.19.1)\n",
            "Requirement already satisfied: huggingface-hub<1.0,>=0.34.0 in /usr/local/lib/python3.12/dist-packages (from transformers) (0.34.4)\n",
            "Requirement already satisfied: packaging>=20.0 in /usr/local/lib/python3.12/dist-packages (from transformers) (25.0)\n",
            "Requirement already satisfied: pyyaml>=5.1 in /usr/local/lib/python3.12/dist-packages (from transformers) (6.0.2)\n",
            "Requirement already satisfied: regex!=2019.12.17 in /usr/local/lib/python3.12/dist-packages (from transformers) (2024.11.6)\n",
            "Requirement already satisfied: tokenizers<=0.23.0,>=0.22.0 in /usr/local/lib/python3.12/dist-packages (from transformers) (0.22.0)\n",
            "Requirement already satisfied: safetensors>=0.4.3 in /usr/local/lib/python3.12/dist-packages (from transformers) (0.6.2)\n",
            "Requirement already satisfied: tqdm>=4.27 in /usr/local/lib/python3.12/dist-packages (from transformers) (4.67.1)\n",
            "Requirement already satisfied: fsspec>=2023.5.0 in /usr/local/lib/python3.12/dist-packages (from huggingface-hub<1.0,>=0.34.0->transformers) (2025.3.0)\n",
            "Requirement already satisfied: typing-extensions>=3.7.4.3 in /usr/local/lib/python3.12/dist-packages (from huggingface-hub<1.0,>=0.34.0->transformers) (4.15.0)\n",
            "Requirement already satisfied: hf-xet<2.0.0,>=1.1.3 in /usr/local/lib/python3.12/dist-packages (from huggingface-hub<1.0,>=0.34.0->transformers) (1.1.9)\n",
            "Requirement already satisfied: six>=1.5 in /usr/local/lib/python3.12/dist-packages (from python-dateutil>=2.8.2->pandas) (1.17.0)\n",
            "Requirement already satisfied: charset_normalizer<4,>=2 in /usr/local/lib/python3.12/dist-packages (from requests<3.0.0->newsapi-python) (3.4.3)\n",
            "Requirement already satisfied: idna<4,>=2.5 in /usr/local/lib/python3.12/dist-packages (from requests<3.0.0->newsapi-python) (3.10)\n",
            "Requirement already satisfied: urllib3<3,>=1.21.1 in /usr/local/lib/python3.12/dist-packages (from requests<3.0.0->newsapi-python) (2.5.0)\n",
            "Requirement already satisfied: certifi>=2017.4.17 in /usr/local/lib/python3.12/dist-packages (from requests<3.0.0->newsapi-python) (2025.8.3)\n"
          ]
        }
      ]
    },
    {
      "cell_type": "markdown",
      "source": [
        "**Import libraries**"
      ],
      "metadata": {
        "id": "PzFNoIUV1z9_"
      }
    },
    {
      "cell_type": "code",
      "source": [
        "from newsapi import NewsApiClient\n",
        "import pandas as pd\n",
        "from transformers import pipeline\n",
        "import time\n",
        "from google.colab import userdata   # for Colab Secrets"
      ],
      "metadata": {
        "id": "RIyX1GVA1bNQ"
      },
      "execution_count": null,
      "outputs": []
    },
    {
      "cell_type": "markdown",
      "source": [
        "**Load API Key securely**"
      ],
      "metadata": {
        "id": "pRrQknaZ14Rd"
      }
    },
    {
      "cell_type": "code",
      "source": [
        "#  Load API key from Colab Secrets\n",
        "news_api_key = userdata.get('NEWS_API_KEY')\n",
        "\n",
        "if not news_api_key:\n",
        "    raise ValueError(\" NEWS_API_KEY not found in Colab Secrets. Please add it first.\")\n",
        "\n",
        "# Initialize NewsAPI client\n",
        "newsapi = NewsApiClient(api_key=news_api_key)\n"
      ],
      "metadata": {
        "id": "dBNJ86q41cld"
      },
      "execution_count": null,
      "outputs": []
    },
    {
      "cell_type": "markdown",
      "source": [
        "**Fetch articles**"
      ],
      "metadata": {
        "id": "IDv7isu718Ha"
      }
    },
    {
      "cell_type": "code",
      "source": [
        "# Parameters\n",
        "page_size = 100   # max articles per page\n",
        "total_pages = 5   # number of pages to fetch\n",
        "all_articles = []  # store articles\n",
        "\n",
        "# Refined AI/ML query (exclude unrelated topics)\n",
        "query = '\"Artificial Intelligence\" OR \"Machine Learning\" -game -gaming -sports -football -cricket'\n",
        "\n",
        "# Fetch articles page by page\n",
        "for page in range(1, total_pages + 1):\n",
        "    print(f\" Fetching page {page}...\")\n",
        "    try:\n",
        "        response = newsapi.get_everything(\n",
        "            q=query,\n",
        "            language=\"en\",\n",
        "            page_size=page_size,\n",
        "            page=page,\n",
        "            sort_by=\"publishedAt\"\n",
        "        )\n",
        "        all_articles.extend(response[\"articles\"])\n",
        "        time.sleep(1)  # avoid hitting API limits\n",
        "    except Exception as e:\n",
        "        print(f\" Error fetching page {page}: {e}\")\n",
        "        break\n",
        "\n",
        "print(f\" Total articles fetched: {len(all_articles)}\")\n"
      ],
      "metadata": {
        "colab": {
          "base_uri": "https://localhost:8080/"
        },
        "id": "CtkxORIM1gb0",
        "outputId": "904d9ed1-5d30-4f57-e887-8c3c0f8d6f55"
      },
      "execution_count": null,
      "outputs": [
        {
          "output_type": "stream",
          "name": "stdout",
          "text": [
            " Fetching page 1...\n",
            " Fetching page 2...\n",
            " Error fetching page 2: {'status': 'error', 'code': 'maximumResultsReached', 'message': 'You have requested too many results. Developer accounts are limited to a max of 100 results. You are trying to request results 100 to 200. Please upgrade to a paid plan if you need more results.'}\n",
            " Total articles fetched: 95\n"
          ]
        }
      ]
    },
    {
      "cell_type": "markdown",
      "source": [
        "**Store articles in DataFrame**"
      ],
      "metadata": {
        "id": "smcDCRzo2G6F"
      }
    },
    {
      "cell_type": "code",
      "source": [
        "# Extract relevant data\n",
        "news_data = [{\n",
        "    \"source\": a[\"source\"][\"name\"],\n",
        "    \"text\": a[\"title\"],\n",
        "    \"publishedAt\": a[\"publishedAt\"]\n",
        "} for a in all_articles]\n",
        "\n",
        "df_news = pd.DataFrame(news_data)\n",
        "\n",
        "# Show sample data\n",
        "print(\" Sample AI/ML news:\")\n",
        "print(df_news.head())\n"
      ],
      "metadata": {
        "colab": {
          "base_uri": "https://localhost:8080/"
        },
        "id": "R32Rwf-Z1k5m",
        "outputId": "d8e641ba-176c-4044-ae5a-199d7920a22b"
      },
      "execution_count": null,
      "outputs": [
        {
          "output_type": "stream",
          "name": "stdout",
          "text": [
            " Sample AI/ML news:\n",
            "                         source  \\\n",
            "0                    TechCrunch   \n",
            "1               Bestadsontv.com   \n",
            "2  International Business Times   \n",
            "3                        Forbes   \n",
            "4                  BusinessLine   \n",
            "\n",
            "                                                text           publishedAt  \n",
            "0  What is Mistral AI? Everything to know about t...  2025-09-07T14:57:36Z  \n",
            "1  Interactive ad: Mastercard: Mastercard Transit...  2025-09-07T14:56:41Z  \n",
            "2           AI-powered Meet-up Apps Fight Loneliness  2025-09-07T14:51:17Z  \n",
            "3  Crypto Is Powering The AI Age’s Most Critical ...  2025-09-07T14:40:42Z  \n",
            "4  ‘For Samsung, India is the second-largest R&D ...  2025-09-07T14:37:52Z  \n"
          ]
        }
      ]
    },
    {
      "cell_type": "markdown",
      "source": [
        "**Sentiment analysis**"
      ],
      "metadata": {
        "id": "QzGjjSfi2Npr"
      }
    },
    {
      "cell_type": "code",
      "source": [
        "# Sentiment Analysis with Hugging Face\n",
        "sentiment_pipeline = pipeline(\"sentiment-analysis\")\n",
        "\n",
        "# Apply to all news titles\n",
        "results = sentiment_pipeline(list(df_news[\"text\"]), batch_size=32)\n",
        "\n",
        "df_news[\"sentiment\"] = [r[\"label\"] for r in results]\n",
        "df_news[\"score\"] = [r[\"score\"] for r in results]\n",
        "\n",
        "print(\"\\n AI/ML news with sentiment:\")\n",
        "print(df_news.head())\n"
      ],
      "metadata": {
        "colab": {
          "base_uri": "https://localhost:8080/"
        },
        "id": "HRV7XtCU1na2",
        "outputId": "f8b64780-63ef-4da5-946e-c3af5f77fe1e"
      },
      "execution_count": null,
      "outputs": [
        {
          "output_type": "stream",
          "name": "stderr",
          "text": [
            "No model was supplied, defaulted to distilbert/distilbert-base-uncased-finetuned-sst-2-english and revision 714eb0f (https://huggingface.co/distilbert/distilbert-base-uncased-finetuned-sst-2-english).\n",
            "Using a pipeline without specifying a model name and revision in production is not recommended.\n",
            "Device set to use cpu\n"
          ]
        },
        {
          "output_type": "stream",
          "name": "stdout",
          "text": [
            "\n",
            " AI/ML news with sentiment:\n",
            "                         source  \\\n",
            "0                    TechCrunch   \n",
            "1               Bestadsontv.com   \n",
            "2  International Business Times   \n",
            "3                        Forbes   \n",
            "4                  BusinessLine   \n",
            "\n",
            "                                                text           publishedAt  \\\n",
            "0  What is Mistral AI? Everything to know about t...  2025-09-07T14:57:36Z   \n",
            "1  Interactive ad: Mastercard: Mastercard Transit...  2025-09-07T14:56:41Z   \n",
            "2           AI-powered Meet-up Apps Fight Loneliness  2025-09-07T14:51:17Z   \n",
            "3  Crypto Is Powering The AI Age’s Most Critical ...  2025-09-07T14:40:42Z   \n",
            "4  ‘For Samsung, India is the second-largest R&D ...  2025-09-07T14:37:52Z   \n",
            "\n",
            "  sentiment     score  \n",
            "0  NEGATIVE  0.998384  \n",
            "1  POSITIVE  0.780552  \n",
            "2  POSITIVE  0.974201  \n",
            "3  POSITIVE  0.997610  \n",
            "4  POSITIVE  0.998396  \n"
          ]
        }
      ]
    },
    {
      "cell_type": "markdown",
      "source": [
        "**Save dataset**"
      ],
      "metadata": {
        "id": "wjX_apfH2RRY"
      }
    },
    {
      "cell_type": "code",
      "source": [
        "# Save to CSV\n",
        "df_news.to_csv(\"ai_news_sentiment.csv\", index=False)\n",
        "print(\" CSV saved successfully as 'ai_news_sentiment.csv'.\")\n"
      ],
      "metadata": {
        "colab": {
          "base_uri": "https://localhost:8080/"
        },
        "id": "WqUD7rOW1p99",
        "outputId": "41639e51-8870-4b8c-c24f-aeacd06ac072"
      },
      "execution_count": null,
      "outputs": [
        {
          "output_type": "stream",
          "name": "stdout",
          "text": [
            " CSV saved successfully as 'ai_news_sentiment.csv'.\n"
          ]
        }
      ]
    }
  ]
}